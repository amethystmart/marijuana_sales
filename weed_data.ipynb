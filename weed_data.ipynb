{
 "cells": [
  {
   "cell_type": "code",
   "execution_count": 29,
   "id": "0aae53a6-d0b2-406a-8d48-3b65c448ec65",
   "metadata": {},
   "outputs": [],
   "source": [
    "import pandas as pd"
   ]
  },
  {
   "cell_type": "code",
   "execution_count": 30,
   "id": "1d4f7b9c-8c31-477a-87a0-f2955a795178",
   "metadata": {},
   "outputs": [],
   "source": [
    "df = pd.read_csv(\"weed.csv\")"
   ]
  },
  {
   "cell_type": "code",
   "execution_count": 31,
   "id": "ea1199d7-e7cb-43e7-be1d-0ce2fda5e0d4",
   "metadata": {},
   "outputs": [],
   "source": [
    "df['Month'] = pd.to_datetime(df['Month'], format='%m').dt.strftime('%B')"
   ]
  },
  {
   "cell_type": "code",
   "execution_count": 32,
   "id": "6b1e42a6-6b2d-477f-bbe6-376245438fbd",
   "metadata": {},
   "outputs": [
    {
     "data": {
      "text/html": [
       "<div>\n",
       "<style scoped>\n",
       "    .dataframe tbody tr th:only-of-type {\n",
       "        vertical-align: middle;\n",
       "    }\n",
       "\n",
       "    .dataframe tbody tr th {\n",
       "        vertical-align: top;\n",
       "    }\n",
       "\n",
       "    .dataframe thead th {\n",
       "        text-align: right;\n",
       "    }\n",
       "</style>\n",
       "<table border=\"1\" class=\"dataframe\">\n",
       "  <thead>\n",
       "    <tr style=\"text-align: right;\">\n",
       "      <th></th>\n",
       "      <th>Month</th>\n",
       "      <th>Year</th>\n",
       "      <th>Total Medical Marijuana Sales ¹</th>\n",
       "      <th>Total Retail \\nMarijuana Sales ²</th>\n",
       "      <th>Total \\nMarijuana Sales</th>\n",
       "    </tr>\n",
       "  </thead>\n",
       "  <tbody>\n",
       "    <tr>\n",
       "      <th>0</th>\n",
       "      <td>November</td>\n",
       "      <td>2024</td>\n",
       "      <td>$11,878,351</td>\n",
       "      <td>$97,379,486</td>\n",
       "      <td>$109,257,837</td>\n",
       "    </tr>\n",
       "    <tr>\n",
       "      <th>1</th>\n",
       "      <td>October</td>\n",
       "      <td>2024</td>\n",
       "      <td>$12,416,284</td>\n",
       "      <td>$100,887,426</td>\n",
       "      <td>$113,303,710</td>\n",
       "    </tr>\n",
       "    <tr>\n",
       "      <th>2</th>\n",
       "      <td>September</td>\n",
       "      <td>2024</td>\n",
       "      <td>$11,913,574</td>\n",
       "      <td>$100,516,124</td>\n",
       "      <td>$112,429,698</td>\n",
       "    </tr>\n",
       "    <tr>\n",
       "      <th>3</th>\n",
       "      <td>August</td>\n",
       "      <td>2024</td>\n",
       "      <td>$13,556,775</td>\n",
       "      <td>$108,924,413</td>\n",
       "      <td>$122,481,188</td>\n",
       "    </tr>\n",
       "    <tr>\n",
       "      <th>4</th>\n",
       "      <td>July</td>\n",
       "      <td>2024</td>\n",
       "      <td>$13,640,705</td>\n",
       "      <td>$108,909,609</td>\n",
       "      <td>$122,550,314</td>\n",
       "    </tr>\n",
       "    <tr>\n",
       "      <th>...</th>\n",
       "      <td>...</td>\n",
       "      <td>...</td>\n",
       "      <td>...</td>\n",
       "      <td>...</td>\n",
       "      <td>...</td>\n",
       "    </tr>\n",
       "    <tr>\n",
       "      <th>126</th>\n",
       "      <td>May</td>\n",
       "      <td>2014</td>\n",
       "      <td>$31,355,208</td>\n",
       "      <td>$21,375,001</td>\n",
       "      <td>$52,730,209</td>\n",
       "    </tr>\n",
       "    <tr>\n",
       "      <th>127</th>\n",
       "      <td>April</td>\n",
       "      <td>2014</td>\n",
       "      <td>$32,686,869</td>\n",
       "      <td>$20,765,986</td>\n",
       "      <td>$53,452,855</td>\n",
       "    </tr>\n",
       "    <tr>\n",
       "      <th>128</th>\n",
       "      <td>March</td>\n",
       "      <td>2014</td>\n",
       "      <td>$34,821,878</td>\n",
       "      <td>$19,881,631</td>\n",
       "      <td>$54,703,509</td>\n",
       "    </tr>\n",
       "    <tr>\n",
       "      <th>129</th>\n",
       "      <td>February</td>\n",
       "      <td>2014</td>\n",
       "      <td>$31,738,572</td>\n",
       "      <td>$14,248,473</td>\n",
       "      <td>$45,987,045</td>\n",
       "    </tr>\n",
       "    <tr>\n",
       "      <th>130</th>\n",
       "      <td>January</td>\n",
       "      <td>2014</td>\n",
       "      <td>$32,541,720</td>\n",
       "      <td>$14,022,213</td>\n",
       "      <td>$46,563,933</td>\n",
       "    </tr>\n",
       "  </tbody>\n",
       "</table>\n",
       "<p>131 rows × 5 columns</p>\n",
       "</div>"
      ],
      "text/plain": [
       "         Month  Year Total Medical Marijuana Sales ¹  \\\n",
       "0     November  2024                     $11,878,351   \n",
       "1      October  2024                     $12,416,284   \n",
       "2    September  2024                     $11,913,574   \n",
       "3       August  2024                     $13,556,775   \n",
       "4         July  2024                     $13,640,705   \n",
       "..         ...   ...                             ...   \n",
       "126        May  2014                     $31,355,208   \n",
       "127      April  2014                     $32,686,869   \n",
       "128      March  2014                     $34,821,878   \n",
       "129   February  2014                     $31,738,572   \n",
       "130    January  2014                     $32,541,720   \n",
       "\n",
       "    Total Retail \\nMarijuana Sales ² Total \\nMarijuana Sales  \n",
       "0                        $97,379,486            $109,257,837  \n",
       "1                       $100,887,426            $113,303,710  \n",
       "2                       $100,516,124            $112,429,698  \n",
       "3                       $108,924,413            $122,481,188  \n",
       "4                       $108,909,609            $122,550,314  \n",
       "..                               ...                     ...  \n",
       "126                      $21,375,001             $52,730,209  \n",
       "127                      $20,765,986             $53,452,855  \n",
       "128                      $19,881,631             $54,703,509  \n",
       "129                      $14,248,473             $45,987,045  \n",
       "130                      $14,022,213             $46,563,933  \n",
       "\n",
       "[131 rows x 5 columns]"
      ]
     },
     "execution_count": 32,
     "metadata": {},
     "output_type": "execute_result"
    }
   ],
   "source": [
    "df"
   ]
  },
  {
   "cell_type": "code",
   "execution_count": 37,
   "id": "efae36c8-9d9b-49f4-839b-d0af3423f5e4",
   "metadata": {},
   "outputs": [],
   "source": [
    "df = df.rename(columns={'Total \\nMarijuana Sales': 'Total Marijuana Sales',\n",
    "                       'Total Retail \\nMarijuana Sales ²': 'Total Retail Marijuana Sales',\n",
    "                       'Total Medical Marijuana Sales ¹': 'Total Medical Marijuana Sales'})"
   ]
  },
  {
   "cell_type": "code",
   "execution_count": null,
   "id": "4683baa3-b55d-4584-8fab-4d5037d62141",
   "metadata": {},
   "outputs": [],
   "source": [
    "df = df.drop(['Total Retail Marijuana Sales', 'Total Medical Marijuana Sales'], axis=1)"
   ]
  },
  {
   "cell_type": "code",
   "execution_count": 42,
   "id": "d4113f84-647d-4eb7-9da8-8de802fa9e62",
   "metadata": {},
   "outputs": [],
   "source": [
    "df['Total Marijuana Sales'] = df['Total Marijuana Sales'].replace('[\\$,]', '', regex=True).astype(float)"
   ]
  },
  {
   "cell_type": "code",
   "execution_count": 43,
   "id": "e3b0f4be-3083-4c71-b1d4-10e373d40e04",
   "metadata": {},
   "outputs": [],
   "source": [
    "monthly_totals = df.groupby('Month')['Total Marijuana Sales'].sum().reset_index()"
   ]
  },
  {
   "cell_type": "code",
   "execution_count": 44,
   "id": "ef814bac-18af-45f8-8b7f-4b41cd6213cf",
   "metadata": {},
   "outputs": [],
   "source": [
    "monthly_totals = monthly_totals.sort_values('Total Marijuana Sales', ascending=False)\n"
   ]
  },
  {
   "cell_type": "code",
   "execution_count": 45,
   "id": "129b3663-a1ba-4354-8f53-2e9a5b114289",
   "metadata": {},
   "outputs": [],
   "source": [
    "monthly_totals['Total Marijuana Sales'] = monthly_totals['Total Marijuana Sales'].apply(lambda x: '${:,.2f}'.format(x))\n"
   ]
  },
  {
   "cell_type": "code",
   "execution_count": 46,
   "id": "0a7da1cd-0d25-484f-96a1-a88073a48dac",
   "metadata": {},
   "outputs": [
    {
     "name": "stdout",
     "output_type": "stream",
     "text": [
      "        Month Total Marijuana Sales\n",
      "5        July     $1,562,630,918.00\n",
      "1      August     $1,560,891,237.00\n",
      "11  September     $1,484,212,820.00\n",
      "7       March     $1,438,585,345.00\n",
      "10    October     $1,432,353,742.00\n",
      "6        June     $1,429,070,966.00\n",
      "8         May     $1,395,127,943.00\n",
      "0       April     $1,376,338,096.00\n",
      "9    November     $1,316,013,312.00\n",
      "2    December     $1,287,394,338.00\n",
      "4     January     $1,275,935,878.00\n",
      "3    February     $1,230,803,017.00\n"
     ]
    }
   ],
   "source": [
    "print(monthly_totals)"
   ]
  },
  {
   "cell_type": "code",
   "execution_count": 47,
   "id": "3b59a3d9-2410-40ae-ac31-724c0a6f65fe",
   "metadata": {},
   "outputs": [
    {
     "data": {
      "text/html": [
       "<div>\n",
       "<style scoped>\n",
       "    .dataframe tbody tr th:only-of-type {\n",
       "        vertical-align: middle;\n",
       "    }\n",
       "\n",
       "    .dataframe tbody tr th {\n",
       "        vertical-align: top;\n",
       "    }\n",
       "\n",
       "    .dataframe thead th {\n",
       "        text-align: right;\n",
       "    }\n",
       "</style>\n",
       "<table border=\"1\" class=\"dataframe\">\n",
       "  <thead>\n",
       "    <tr style=\"text-align: right;\">\n",
       "      <th></th>\n",
       "      <th>Month</th>\n",
       "      <th>Year</th>\n",
       "      <th>Total Marijuana Sales</th>\n",
       "    </tr>\n",
       "  </thead>\n",
       "  <tbody>\n",
       "    <tr>\n",
       "      <th>0</th>\n",
       "      <td>November</td>\n",
       "      <td>2024</td>\n",
       "      <td>109257837.0</td>\n",
       "    </tr>\n",
       "    <tr>\n",
       "      <th>1</th>\n",
       "      <td>October</td>\n",
       "      <td>2024</td>\n",
       "      <td>113303710.0</td>\n",
       "    </tr>\n",
       "    <tr>\n",
       "      <th>2</th>\n",
       "      <td>September</td>\n",
       "      <td>2024</td>\n",
       "      <td>112429698.0</td>\n",
       "    </tr>\n",
       "    <tr>\n",
       "      <th>3</th>\n",
       "      <td>August</td>\n",
       "      <td>2024</td>\n",
       "      <td>122481188.0</td>\n",
       "    </tr>\n",
       "    <tr>\n",
       "      <th>4</th>\n",
       "      <td>July</td>\n",
       "      <td>2024</td>\n",
       "      <td>122550314.0</td>\n",
       "    </tr>\n",
       "  </tbody>\n",
       "</table>\n",
       "</div>"
      ],
      "text/plain": [
       "       Month  Year  Total Marijuana Sales\n",
       "0   November  2024            109257837.0\n",
       "1    October  2024            113303710.0\n",
       "2  September  2024            112429698.0\n",
       "3     August  2024            122481188.0\n",
       "4       July  2024            122550314.0"
      ]
     },
     "execution_count": 47,
     "metadata": {},
     "output_type": "execute_result"
    }
   ],
   "source": [
    "df.head()"
   ]
  },
  {
   "cell_type": "code",
   "execution_count": 48,
   "id": "9233526f-a57f-4540-8530-fe3cd7aab2b6",
   "metadata": {},
   "outputs": [],
   "source": [
    "df = df.drop('Year', axis=1)"
   ]
  },
  {
   "cell_type": "code",
   "execution_count": 50,
   "id": "b108efd8-d0b8-4778-9ec6-3bfaa20a782c",
   "metadata": {},
   "outputs": [
    {
     "data": {
      "text/html": [
       "<div>\n",
       "<style scoped>\n",
       "    .dataframe tbody tr th:only-of-type {\n",
       "        vertical-align: middle;\n",
       "    }\n",
       "\n",
       "    .dataframe tbody tr th {\n",
       "        vertical-align: top;\n",
       "    }\n",
       "\n",
       "    .dataframe thead th {\n",
       "        text-align: right;\n",
       "    }\n",
       "</style>\n",
       "<table border=\"1\" class=\"dataframe\">\n",
       "  <thead>\n",
       "    <tr style=\"text-align: right;\">\n",
       "      <th></th>\n",
       "      <th>Month</th>\n",
       "      <th>Total Marijuana Sales</th>\n",
       "    </tr>\n",
       "  </thead>\n",
       "  <tbody>\n",
       "    <tr>\n",
       "      <th>0</th>\n",
       "      <td>November</td>\n",
       "      <td>109257837.0</td>\n",
       "    </tr>\n",
       "    <tr>\n",
       "      <th>1</th>\n",
       "      <td>October</td>\n",
       "      <td>113303710.0</td>\n",
       "    </tr>\n",
       "    <tr>\n",
       "      <th>2</th>\n",
       "      <td>September</td>\n",
       "      <td>112429698.0</td>\n",
       "    </tr>\n",
       "    <tr>\n",
       "      <th>3</th>\n",
       "      <td>August</td>\n",
       "      <td>122481188.0</td>\n",
       "    </tr>\n",
       "    <tr>\n",
       "      <th>4</th>\n",
       "      <td>July</td>\n",
       "      <td>122550314.0</td>\n",
       "    </tr>\n",
       "  </tbody>\n",
       "</table>\n",
       "</div>"
      ],
      "text/plain": [
       "       Month  Total Marijuana Sales\n",
       "0   November            109257837.0\n",
       "1    October            113303710.0\n",
       "2  September            112429698.0\n",
       "3     August            122481188.0\n",
       "4       July            122550314.0"
      ]
     },
     "execution_count": 50,
     "metadata": {},
     "output_type": "execute_result"
    }
   ],
   "source": [
    "df.head()"
   ]
  },
  {
   "cell_type": "code",
   "execution_count": 51,
   "id": "c8d73d72-7c0e-4871-b39e-6c6763798f2f",
   "metadata": {},
   "outputs": [],
   "source": [
    "df['Total Marijuana Sales'] = df['Total Marijuana Sales'].replace('[\\$,]', '', regex=True).astype(float)"
   ]
  },
  {
   "cell_type": "code",
   "execution_count": 52,
   "id": "8c172e39-8438-431d-8bb2-e211e987697c",
   "metadata": {},
   "outputs": [],
   "source": [
    "monthly_totals = df.groupby('Month')['Total Marijuana Sales'].sum().reset_index()"
   ]
  },
  {
   "cell_type": "code",
   "execution_count": 53,
   "id": "ed8e9851-3587-4f6c-bf40-3ee7a1b04dbd",
   "metadata": {},
   "outputs": [],
   "source": [
    "monthly_totals = monthly_totals.sort_values('Total Marijuana Sales', ascending=False)\n"
   ]
  },
  {
   "cell_type": "code",
   "execution_count": 54,
   "id": "eebbccb5-e873-4487-8897-cbdbf9256bb5",
   "metadata": {},
   "outputs": [],
   "source": [
    "monthly_totals['Total Marijuana Sales'] = monthly_totals['Total Marijuana Sales'].apply(lambda x: '${:,.2f}'.format(x))"
   ]
  },
  {
   "cell_type": "code",
   "execution_count": 55,
   "id": "79d836ec-63b2-4d00-b4f5-12fa0f78bb6b",
   "metadata": {},
   "outputs": [
    {
     "name": "stdout",
     "output_type": "stream",
     "text": [
      "        Month Total Marijuana Sales\n",
      "5        July     $1,562,630,918.00\n",
      "1      August     $1,560,891,237.00\n",
      "11  September     $1,484,212,820.00\n",
      "7       March     $1,438,585,345.00\n",
      "10    October     $1,432,353,742.00\n",
      "6        June     $1,429,070,966.00\n",
      "8         May     $1,395,127,943.00\n",
      "0       April     $1,376,338,096.00\n",
      "9    November     $1,316,013,312.00\n",
      "2    December     $1,287,394,338.00\n",
      "4     January     $1,275,935,878.00\n",
      "3    February     $1,230,803,017.00\n"
     ]
    }
   ],
   "source": []
  },
  {
   "cell_type": "code",
   "execution_count": 57,
   "id": "57897b70-455b-45c5-874a-f61abf8f6420",
   "metadata": {},
   "outputs": [],
   "source": [
    "monthly_totals.to_csv('weed.csv', index=False)"
   ]
  },
  {
   "cell_type": "code",
   "execution_count": null,
   "id": "21a6e528-706a-409e-abf6-500addfb8bf6",
   "metadata": {},
   "outputs": [],
   "source": []
  }
 ],
 "metadata": {
  "kernelspec": {
   "display_name": "Python 3 (ipykernel)",
   "language": "python",
   "name": "python3"
  },
  "language_info": {
   "codemirror_mode": {
    "name": "ipython",
    "version": 3
   },
   "file_extension": ".py",
   "mimetype": "text/x-python",
   "name": "python",
   "nbconvert_exporter": "python",
   "pygments_lexer": "ipython3",
   "version": "3.11.8"
  }
 },
 "nbformat": 4,
 "nbformat_minor": 5
}
